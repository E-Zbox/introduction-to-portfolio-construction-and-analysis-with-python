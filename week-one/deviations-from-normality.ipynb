{
 "cells": [
  {
   "cell_type": "markdown",
   "metadata": {},
   "source": [
    "## Deviations from Normality"
   ]
  },
  {
   "cell_type": "code",
   "execution_count": 2,
   "metadata": {},
   "outputs": [
    {
     "name": "stdout",
     "output_type": "stream",
     "text": [
      "The autoreload extension is already loaded. To reload it, use:\n",
      "  %reload_ext autoreload\n"
     ]
    }
   ],
   "source": [
    "%load_ext autoreload\n",
    "%autoreload 2\n",
    "\n",
    "import importlib\n",
    "import pandas as pd\n",
    "\n",
    "erk = importlib.import_module(\"edhec-risk-kit\")"
   ]
  },
  {
   "cell_type": "code",
   "execution_count": 3,
   "metadata": {},
   "outputs": [
    {
     "name": "stderr",
     "output_type": "stream",
     "text": [
      "/Users/mac/Desktop/development/algo-trading/coursera/introduction-to-portfolio-construction-and-analysis-with-python/week-one/edhec-risk-kit.py:42: UserWarning: Parsing dates in %d/%m/%Y format when dayfirst=False (the default) was specified. Pass `dayfirst=True` or specify a format to silence this warning.\n",
      "  hfi = pd.read_csv(\"../data/edhec-hedgefundindices.csv\",\n"
     ]
    },
    {
     "data": {
      "text/html": [
       "<div>\n",
       "<style scoped>\n",
       "    .dataframe tbody tr th:only-of-type {\n",
       "        vertical-align: middle;\n",
       "    }\n",
       "\n",
       "    .dataframe tbody tr th {\n",
       "        vertical-align: top;\n",
       "    }\n",
       "\n",
       "    .dataframe thead th {\n",
       "        text-align: right;\n",
       "    }\n",
       "</style>\n",
       "<table border=\"1\" class=\"dataframe\">\n",
       "  <thead>\n",
       "    <tr style=\"text-align: right;\">\n",
       "      <th></th>\n",
       "      <th>Convertible Arbitrage</th>\n",
       "      <th>CTA Global</th>\n",
       "      <th>Distressed Securities</th>\n",
       "      <th>Emerging Markets</th>\n",
       "      <th>Equity Market Neutral</th>\n",
       "      <th>Event Driven</th>\n",
       "      <th>Fixed Income Arbitrage</th>\n",
       "      <th>Global Macro</th>\n",
       "      <th>Long/Short Equity</th>\n",
       "      <th>Merger Arbitrage</th>\n",
       "      <th>Relative Value</th>\n",
       "      <th>Short Selling</th>\n",
       "      <th>Funds Of Funds</th>\n",
       "    </tr>\n",
       "    <tr>\n",
       "      <th>date</th>\n",
       "      <th></th>\n",
       "      <th></th>\n",
       "      <th></th>\n",
       "      <th></th>\n",
       "      <th></th>\n",
       "      <th></th>\n",
       "      <th></th>\n",
       "      <th></th>\n",
       "      <th></th>\n",
       "      <th></th>\n",
       "      <th></th>\n",
       "      <th></th>\n",
       "      <th></th>\n",
       "    </tr>\n",
       "  </thead>\n",
       "  <tbody>\n",
       "    <tr>\n",
       "      <th>1997-01</th>\n",
       "      <td>0.0119</td>\n",
       "      <td>0.0393</td>\n",
       "      <td>0.0178</td>\n",
       "      <td>0.0791</td>\n",
       "      <td>0.0189</td>\n",
       "      <td>0.0213</td>\n",
       "      <td>0.0191</td>\n",
       "      <td>0.0573</td>\n",
       "      <td>0.0281</td>\n",
       "      <td>0.0150</td>\n",
       "      <td>0.0180</td>\n",
       "      <td>-0.0166</td>\n",
       "      <td>0.0317</td>\n",
       "    </tr>\n",
       "    <tr>\n",
       "      <th>1997-02</th>\n",
       "      <td>0.0123</td>\n",
       "      <td>0.0298</td>\n",
       "      <td>0.0122</td>\n",
       "      <td>0.0525</td>\n",
       "      <td>0.0101</td>\n",
       "      <td>0.0084</td>\n",
       "      <td>0.0122</td>\n",
       "      <td>0.0175</td>\n",
       "      <td>-0.0006</td>\n",
       "      <td>0.0034</td>\n",
       "      <td>0.0118</td>\n",
       "      <td>0.0426</td>\n",
       "      <td>0.0106</td>\n",
       "    </tr>\n",
       "    <tr>\n",
       "      <th>1997-03</th>\n",
       "      <td>0.0078</td>\n",
       "      <td>-0.0021</td>\n",
       "      <td>-0.0012</td>\n",
       "      <td>-0.0120</td>\n",
       "      <td>0.0016</td>\n",
       "      <td>-0.0023</td>\n",
       "      <td>0.0109</td>\n",
       "      <td>-0.0119</td>\n",
       "      <td>-0.0084</td>\n",
       "      <td>0.0060</td>\n",
       "      <td>0.0010</td>\n",
       "      <td>0.0778</td>\n",
       "      <td>-0.0077</td>\n",
       "    </tr>\n",
       "    <tr>\n",
       "      <th>1997-04</th>\n",
       "      <td>0.0086</td>\n",
       "      <td>-0.0170</td>\n",
       "      <td>0.0030</td>\n",
       "      <td>0.0119</td>\n",
       "      <td>0.0119</td>\n",
       "      <td>-0.0005</td>\n",
       "      <td>0.0130</td>\n",
       "      <td>0.0172</td>\n",
       "      <td>0.0084</td>\n",
       "      <td>-0.0001</td>\n",
       "      <td>0.0122</td>\n",
       "      <td>-0.0129</td>\n",
       "      <td>0.0009</td>\n",
       "    </tr>\n",
       "    <tr>\n",
       "      <th>1997-05</th>\n",
       "      <td>0.0156</td>\n",
       "      <td>-0.0015</td>\n",
       "      <td>0.0233</td>\n",
       "      <td>0.0315</td>\n",
       "      <td>0.0189</td>\n",
       "      <td>0.0346</td>\n",
       "      <td>0.0118</td>\n",
       "      <td>0.0108</td>\n",
       "      <td>0.0394</td>\n",
       "      <td>0.0197</td>\n",
       "      <td>0.0173</td>\n",
       "      <td>-0.0737</td>\n",
       "      <td>0.0275</td>\n",
       "    </tr>\n",
       "  </tbody>\n",
       "</table>\n",
       "</div>"
      ],
      "text/plain": [
       "         Convertible Arbitrage  CTA Global  Distressed Securities  \\\n",
       "date                                                                \n",
       "1997-01                 0.0119      0.0393                 0.0178   \n",
       "1997-02                 0.0123      0.0298                 0.0122   \n",
       "1997-03                 0.0078     -0.0021                -0.0012   \n",
       "1997-04                 0.0086     -0.0170                 0.0030   \n",
       "1997-05                 0.0156     -0.0015                 0.0233   \n",
       "\n",
       "         Emerging Markets  Equity Market Neutral  Event Driven  \\\n",
       "date                                                             \n",
       "1997-01            0.0791                 0.0189        0.0213   \n",
       "1997-02            0.0525                 0.0101        0.0084   \n",
       "1997-03           -0.0120                 0.0016       -0.0023   \n",
       "1997-04            0.0119                 0.0119       -0.0005   \n",
       "1997-05            0.0315                 0.0189        0.0346   \n",
       "\n",
       "         Fixed Income Arbitrage  Global Macro  Long/Short Equity  \\\n",
       "date                                                               \n",
       "1997-01                  0.0191        0.0573             0.0281   \n",
       "1997-02                  0.0122        0.0175            -0.0006   \n",
       "1997-03                  0.0109       -0.0119            -0.0084   \n",
       "1997-04                  0.0130        0.0172             0.0084   \n",
       "1997-05                  0.0118        0.0108             0.0394   \n",
       "\n",
       "         Merger Arbitrage  Relative Value  Short Selling  Funds Of Funds  \n",
       "date                                                                      \n",
       "1997-01            0.0150          0.0180        -0.0166          0.0317  \n",
       "1997-02            0.0034          0.0118         0.0426          0.0106  \n",
       "1997-03            0.0060          0.0010         0.0778         -0.0077  \n",
       "1997-04           -0.0001          0.0122        -0.0129          0.0009  \n",
       "1997-05            0.0197          0.0173        -0.0737          0.0275  "
      ]
     },
     "execution_count": 3,
     "metadata": {},
     "output_type": "execute_result"
    }
   ],
   "source": [
    "hfi = erk.get_hfi_returns()\n",
    "\n",
    "hfi.head()"
   ]
  },
  {
   "cell_type": "code",
   "execution_count": 5,
   "metadata": {},
   "outputs": [
    {
     "data": {
      "text/html": [
       "<div>\n",
       "<style scoped>\n",
       "    .dataframe tbody tr th:only-of-type {\n",
       "        vertical-align: middle;\n",
       "    }\n",
       "\n",
       "    .dataframe tbody tr th {\n",
       "        vertical-align: top;\n",
       "    }\n",
       "\n",
       "    .dataframe thead th {\n",
       "        text-align: right;\n",
       "    }\n",
       "</style>\n",
       "<table border=\"1\" class=\"dataframe\">\n",
       "  <thead>\n",
       "    <tr style=\"text-align: right;\">\n",
       "      <th></th>\n",
       "      <th>Mean</th>\n",
       "      <th>Median</th>\n",
       "      <th>Mean &gt; Median</th>\n",
       "    </tr>\n",
       "  </thead>\n",
       "  <tbody>\n",
       "    <tr>\n",
       "      <th>Convertible Arbitrage</th>\n",
       "      <td>0.005508</td>\n",
       "      <td>0.0065</td>\n",
       "      <td>False</td>\n",
       "    </tr>\n",
       "    <tr>\n",
       "      <th>CTA Global</th>\n",
       "      <td>0.004074</td>\n",
       "      <td>0.0014</td>\n",
       "      <td>True</td>\n",
       "    </tr>\n",
       "    <tr>\n",
       "      <th>Distressed Securities</th>\n",
       "      <td>0.006946</td>\n",
       "      <td>0.0089</td>\n",
       "      <td>False</td>\n",
       "    </tr>\n",
       "    <tr>\n",
       "      <th>Emerging Markets</th>\n",
       "      <td>0.006253</td>\n",
       "      <td>0.0096</td>\n",
       "      <td>False</td>\n",
       "    </tr>\n",
       "    <tr>\n",
       "      <th>Equity Market Neutral</th>\n",
       "      <td>0.004498</td>\n",
       "      <td>0.0051</td>\n",
       "      <td>False</td>\n",
       "    </tr>\n",
       "    <tr>\n",
       "      <th>Event Driven</th>\n",
       "      <td>0.006344</td>\n",
       "      <td>0.0084</td>\n",
       "      <td>False</td>\n",
       "    </tr>\n",
       "    <tr>\n",
       "      <th>Fixed Income Arbitrage</th>\n",
       "      <td>0.004365</td>\n",
       "      <td>0.0055</td>\n",
       "      <td>False</td>\n",
       "    </tr>\n",
       "    <tr>\n",
       "      <th>Global Macro</th>\n",
       "      <td>0.005403</td>\n",
       "      <td>0.0038</td>\n",
       "      <td>True</td>\n",
       "    </tr>\n",
       "    <tr>\n",
       "      <th>Long/Short Equity</th>\n",
       "      <td>0.006331</td>\n",
       "      <td>0.0079</td>\n",
       "      <td>False</td>\n",
       "    </tr>\n",
       "    <tr>\n",
       "      <th>Merger Arbitrage</th>\n",
       "      <td>0.005356</td>\n",
       "      <td>0.0060</td>\n",
       "      <td>False</td>\n",
       "    </tr>\n",
       "    <tr>\n",
       "      <th>Relative Value</th>\n",
       "      <td>0.005792</td>\n",
       "      <td>0.0067</td>\n",
       "      <td>False</td>\n",
       "    </tr>\n",
       "    <tr>\n",
       "      <th>Short Selling</th>\n",
       "      <td>-0.001701</td>\n",
       "      <td>-0.0053</td>\n",
       "      <td>True</td>\n",
       "    </tr>\n",
       "    <tr>\n",
       "      <th>Funds Of Funds</th>\n",
       "      <td>0.004262</td>\n",
       "      <td>0.0052</td>\n",
       "      <td>False</td>\n",
       "    </tr>\n",
       "  </tbody>\n",
       "</table>\n",
       "</div>"
      ],
      "text/plain": [
       "                            Mean  Median  Mean > Median\n",
       "Convertible Arbitrage   0.005508  0.0065          False\n",
       "CTA Global              0.004074  0.0014           True\n",
       "Distressed Securities   0.006946  0.0089          False\n",
       "Emerging Markets        0.006253  0.0096          False\n",
       "Equity Market Neutral   0.004498  0.0051          False\n",
       "Event Driven            0.006344  0.0084          False\n",
       "Fixed Income Arbitrage  0.004365  0.0055          False\n",
       "Global Macro            0.005403  0.0038           True\n",
       "Long/Short Equity       0.006331  0.0079          False\n",
       "Merger Arbitrage        0.005356  0.0060          False\n",
       "Relative Value          0.005792  0.0067          False\n",
       "Short Selling          -0.001701 -0.0053           True\n",
       "Funds Of Funds          0.004262  0.0052          False"
      ]
     },
     "execution_count": 5,
     "metadata": {},
     "output_type": "execute_result"
    }
   ],
   "source": [
    "info_comparison = pd.concat([hfi.mean(), hfi.median(), hfi.mean() > hfi.median()], axis=\"columns\")\n",
    "info_comparison.columns = [\"Mean\", \"Median\", \"Mean > Median\"]\n",
    "\n",
    "info_comparison"
   ]
  },
  {
   "cell_type": "markdown",
   "metadata": {},
   "source": [
    "**Skewness**\n",
    "\n",
    "$$S(R) = \\frac{E[(R - E(R))^3]}{𝛔_R^3}$$"
   ]
  },
  {
   "cell_type": "code",
   "execution_count": 6,
   "metadata": {},
   "outputs": [
    {
     "data": {
      "text/plain": [
       "Fixed Income Arbitrage   -3.940320\n",
       "Convertible Arbitrage    -2.639592\n",
       "Equity Market Neutral    -2.124435\n",
       "Relative Value           -1.815470\n",
       "Event Driven             -1.409154\n",
       "Merger Arbitrage         -1.320083\n",
       "Distressed Securities    -1.300842\n",
       "Emerging Markets         -1.167067\n",
       "Long/Short Equity        -0.390227\n",
       "Funds Of Funds           -0.361783\n",
       "CTA Global                0.173699\n",
       "Short Selling             0.767975\n",
       "Global Macro              0.982922\n",
       "dtype: float64"
      ]
     },
     "execution_count": 6,
     "metadata": {},
     "output_type": "execute_result"
    }
   ],
   "source": [
    "erk.skewness(hfi).sort_values()"
   ]
  },
  {
   "cell_type": "code",
   "execution_count": 8,
   "metadata": {},
   "outputs": [
    {
     "data": {
      "text/plain": [
       "array([-2.63959223,  0.17369864, -1.30084204, -1.16706749, -2.12443538,\n",
       "       -1.40915356, -3.94032029,  0.98292188, -0.39022677, -1.32008333,\n",
       "       -1.81546975,  0.76797484, -0.36178308])"
      ]
     },
     "execution_count": 8,
     "metadata": {},
     "output_type": "execute_result"
    }
   ],
   "source": [
    "import scipy.stats\n",
    "\n",
    "scipy.stats.skew(hfi)"
   ]
  },
  {
   "cell_type": "code",
   "execution_count": 13,
   "metadata": {},
   "outputs": [
    {
     "data": {
      "text/plain": [
       "array([[ 0.02156816],\n",
       "       [ 0.35230059],\n",
       "       [-0.00694032],\n",
       "       [ 0.1650717 ],\n",
       "       [-0.23751956],\n",
       "       [ 0.04675096],\n",
       "       [-0.06869913],\n",
       "       [-0.02231102],\n",
       "       [-0.10499969],\n",
       "       [ 0.00109751],\n",
       "       [ 0.1644588 ],\n",
       "       [ 0.30944188],\n",
       "       [ 0.21609871],\n",
       "       [-0.08041217],\n",
       "       [-0.16239304],\n",
       "       [-0.00243645],\n",
       "       [ 0.078319  ],\n",
       "       [ 0.20627194],\n",
       "       [ 0.09171737],\n",
       "       [-0.03475397],\n",
       "       [ 0.06703047],\n",
       "       [-0.07594684],\n",
       "       [ 0.10011718],\n",
       "       [ 0.14479493],\n",
       "       [ 0.0686093 ],\n",
       "       [-0.18207517],\n",
       "       [ 0.02062504],\n",
       "       [ 0.26604236],\n",
       "       [-0.31515471],\n",
       "       [ 0.14877836],\n",
       "       [ 0.15857361],\n",
       "       [-0.0668359 ],\n",
       "       [ 0.06456294],\n",
       "       [-0.1198202 ],\n",
       "       [-0.05671138],\n",
       "       [-0.16170242],\n",
       "       [-0.0968581 ],\n",
       "       [ 0.0061539 ],\n",
       "       [-0.01000447],\n",
       "       [ 0.05582568],\n",
       "       [-0.19711444],\n",
       "       [-0.16800472],\n",
       "       [-0.45773041],\n",
       "       [ 0.37923009],\n",
       "       [ 0.16296407],\n",
       "       [ 0.20484336],\n",
       "       [-0.22391149],\n",
       "       [ 0.09874217],\n",
       "       [-0.21539269],\n",
       "       [-0.19784106],\n",
       "       [ 0.0745176 ],\n",
       "       [ 0.0764561 ],\n",
       "       [ 0.01269794],\n",
       "       [-0.15846331],\n",
       "       [-0.02424065],\n",
       "       [-0.09558485],\n",
       "       [-0.14008072],\n",
       "       [ 0.1025961 ],\n",
       "       [ 0.08195301],\n",
       "       [ 0.10081993],\n",
       "       [-0.31612378],\n",
       "       [-0.15145141],\n",
       "       [ 0.0559278 ],\n",
       "       [-0.02114783],\n",
       "       [ 0.00247484],\n",
       "       [-0.0434313 ],\n",
       "       [ 0.08377528],\n",
       "       [ 0.14249888],\n",
       "       [-0.01693642],\n",
       "       [ 0.04214156],\n",
       "       [ 0.33000217],\n",
       "       [-0.0352091 ],\n",
       "       [ 0.08121903],\n",
       "       [-0.07033562],\n",
       "       [ 0.02430529],\n",
       "       [-0.14894769],\n",
       "       [ 0.10327487],\n",
       "       [-0.20046969],\n",
       "       [-0.05835668],\n",
       "       [ 0.04329382],\n",
       "       [-0.13782401],\n",
       "       [-0.14514822],\n",
       "       [ 0.10315053],\n",
       "       [ 0.007033  ],\n",
       "       [ 0.16588989],\n",
       "       [ 0.03577579],\n",
       "       [-0.09315069],\n",
       "       [-0.03457088],\n",
       "       [ 0.16331315],\n",
       "       [ 0.04946602],\n",
       "       [ 0.00170089],\n",
       "       [ 0.0654794 ],\n",
       "       [ 0.01182295],\n",
       "       [-0.27072319],\n",
       "       [ 0.41278759],\n",
       "       [ 0.1443169 ],\n",
       "       [-0.10934985],\n",
       "       [-0.10638614],\n",
       "       [-0.04709875],\n",
       "       [ 0.1005929 ],\n",
       "       [ 0.02311673],\n",
       "       [-0.01576965],\n",
       "       [ 0.05051959],\n",
       "       [-0.21555397],\n",
       "       [ 0.08185035],\n",
       "       [-0.09598211],\n",
       "       [-0.02526824],\n",
       "       [-0.03516453],\n",
       "       [ 0.24106595],\n",
       "       [ 0.0498144 ],\n",
       "       [ 0.03905566],\n",
       "       [ 0.05512495],\n",
       "       [-0.00056449],\n",
       "       [ 0.24827738],\n",
       "       [ 0.16375368],\n",
       "       [-0.03212988],\n",
       "       [-0.16489817],\n",
       "       [-0.02697172],\n",
       "       [-0.25349814],\n",
       "       [-0.15742209],\n",
       "       [ 0.01386305],\n",
       "       [ 0.15371537],\n",
       "       [-0.03346454],\n",
       "       [-0.10817555],\n",
       "       [ 0.14151692],\n",
       "       [-0.09575987],\n",
       "       [-0.00716782],\n",
       "       [ 0.02388554],\n",
       "       [ 0.10561624],\n",
       "       [-0.04964544],\n",
       "       [-0.08388496],\n",
       "       [-0.14391812],\n",
       "       [-0.03690538],\n",
       "       [-0.08312505],\n",
       "       [-0.25241517],\n",
       "       [ 0.05725802],\n",
       "       [ 0.09571055],\n",
       "       [ 0.16910343],\n",
       "       [ 0.16711557],\n",
       "       [ 0.04289127],\n",
       "       [-0.11321385],\n",
       "       [ 0.3496494 ],\n",
       "       [ 0.01598028],\n",
       "       [ 0.02933844],\n",
       "       [-0.07131266],\n",
       "       [-0.08273522],\n",
       "       [ 0.25597304],\n",
       "       [-0.00440703],\n",
       "       [-0.1199385 ],\n",
       "       [-0.08152951],\n",
       "       [ 0.29002693],\n",
       "       [ 0.02985684],\n",
       "       [ 0.01571895],\n",
       "       [-0.21168783],\n",
       "       [-0.21297671],\n",
       "       [ 0.15968584],\n",
       "       [ 0.21694672],\n",
       "       [-0.04201735],\n",
       "       [-0.17725184],\n",
       "       [ 0.18117177],\n",
       "       [-0.01176678],\n",
       "       [ 0.09482592],\n",
       "       [-0.05192726],\n",
       "       [-0.12457451],\n",
       "       [-0.02125291],\n",
       "       [ 0.25085189],\n",
       "       [-0.08279194],\n",
       "       [ 0.0551948 ],\n",
       "       [-0.16544609],\n",
       "       [-0.09321288],\n",
       "       [-0.31500985],\n",
       "       [-0.11398961],\n",
       "       [-0.05234248],\n",
       "       [-0.04986364],\n",
       "       [-0.03028933],\n",
       "       [-0.14627644],\n",
       "       [-0.0202194 ],\n",
       "       [ 0.05888945],\n",
       "       [-0.446763  ],\n",
       "       [-0.2986962 ],\n",
       "       [-0.16832948],\n",
       "       [ 0.03144906],\n",
       "       [ 0.02336599],\n",
       "       [ 0.07730878],\n",
       "       [-0.28814009],\n",
       "       [-0.05495424],\n",
       "       [ 0.05435195],\n",
       "       [ 0.04710686],\n",
       "       [-0.04022895],\n",
       "       [ 0.10240216],\n",
       "       [ 0.2468509 ],\n",
       "       [ 0.06568131],\n",
       "       [-0.02708124],\n",
       "       [-0.16801749],\n",
       "       [-0.14235078],\n",
       "       [-0.27130277],\n",
       "       [-0.06711097],\n",
       "       [ 0.13965446],\n",
       "       [ 0.07264168],\n",
       "       [ 0.20850625],\n",
       "       [ 0.02788701],\n",
       "       [ 0.03069233],\n",
       "       [ 0.24728482],\n",
       "       [-0.0461313 ],\n",
       "       [-0.0777231 ],\n",
       "       [-0.13032232],\n",
       "       [ 0.02620478],\n",
       "       [-0.08603194],\n",
       "       [ 0.48854426],\n",
       "       [-0.24995405],\n",
       "       [ 0.1945416 ],\n",
       "       [-0.07620033],\n",
       "       [ 0.13558673],\n",
       "       [ 0.00432307],\n",
       "       [-0.06067011],\n",
       "       [-0.2058131 ],\n",
       "       [-0.33229411],\n",
       "       [-0.00414135],\n",
       "       [-0.13958128],\n",
       "       [ 0.15802181],\n",
       "       [-0.10107921],\n",
       "       [-0.01374176],\n",
       "       [-0.06652168],\n",
       "       [ 0.14869552],\n",
       "       [-0.2403919 ],\n",
       "       [-0.11366962],\n",
       "       [-0.27442856],\n",
       "       [ 0.15825699],\n",
       "       [ 0.09654038],\n",
       "       [-0.13869743],\n",
       "       [-0.03482591],\n",
       "       [-0.07783689],\n",
       "       [-0.00349866],\n",
       "       [-0.43321743],\n",
       "       [ 0.06323145],\n",
       "       [ 0.11095239],\n",
       "       [-0.08601361],\n",
       "       [ 0.01586397],\n",
       "       [ 0.04022434],\n",
       "       [ 0.00826107],\n",
       "       [-0.02084905],\n",
       "       [ 0.02405755],\n",
       "       [-0.07436897],\n",
       "       [ 0.15103492],\n",
       "       [-0.00523323],\n",
       "       [ 0.28930658],\n",
       "       [-0.05087949],\n",
       "       [-0.07432321],\n",
       "       [ 0.07095124],\n",
       "       [-0.15220479],\n",
       "       [ 0.13286523],\n",
       "       [-0.03774672],\n",
       "       [ 0.15508064],\n",
       "       [ 0.01676327],\n",
       "       [ 0.06634593],\n",
       "       [ 0.0985202 ],\n",
       "       [-0.07977196],\n",
       "       [-0.26097238],\n",
       "       [-0.15460223],\n",
       "       [-0.12796941],\n",
       "       [-0.25010228],\n",
       "       [-0.1196388 ],\n",
       "       [-0.00343464]])"
      ]
     },
     "execution_count": 13,
     "metadata": {},
     "output_type": "execute_result"
    }
   ],
   "source": [
    "import numpy as np\n",
    "\n",
    "normal_returns = np.random.normal(0, .15, size=(263, 1))\n",
    "\n",
    "normal_returns"
   ]
  },
  {
   "cell_type": "code",
   "execution_count": 14,
   "metadata": {},
   "outputs": [
    {
     "data": {
      "text/plain": [
       "0.05558362675957312"
      ]
     },
     "execution_count": 14,
     "metadata": {},
     "output_type": "execute_result"
    }
   ],
   "source": [
    "erk.skewness(normal_returns)"
   ]
  },
  {
   "cell_type": "markdown",
   "metadata": {},
   "source": [
    "**Kurtosis**\n",
    "\n",
    "$$K(R) = \\frac{E[(R - E(R))^4]}{𝛔_R^4}$$"
   ]
  },
  {
   "cell_type": "code",
   "execution_count": 15,
   "metadata": {},
   "outputs": [
    {
     "data": {
      "text/plain": [
       "3.5653362136119466"
      ]
     },
     "execution_count": 15,
     "metadata": {},
     "output_type": "execute_result"
    }
   ],
   "source": [
    "erk.kurtosis(normal_returns)"
   ]
  },
  {
   "cell_type": "code",
   "execution_count": 17,
   "metadata": {},
   "outputs": [
    {
     "data": {
      "text/plain": [
       "array([0.56533621])"
      ]
     },
     "execution_count": 17,
     "metadata": {},
     "output_type": "execute_result"
    }
   ],
   "source": [
    "scipy.stats.kurtosis(normal_returns)"
   ]
  },
  {
   "cell_type": "code",
   "execution_count": 18,
   "metadata": {},
   "outputs": [
    {
     "data": {
      "text/plain": [
       "SignificanceResult(statistic=3.637763319742057, pvalue=0.16220705219241738)"
      ]
     },
     "execution_count": 18,
     "metadata": {},
     "output_type": "execute_result"
    }
   ],
   "source": [
    "scipy.stats.jarque_bera(normal_returns)"
   ]
  },
  {
   "cell_type": "code",
   "execution_count": 16,
   "metadata": {},
   "outputs": [
    {
     "data": {
      "text/plain": [
       "Convertible Arbitrage     23.280834\n",
       "CTA Global                 2.952960\n",
       "Distressed Securities      7.889983\n",
       "Emerging Markets           9.250788\n",
       "Equity Market Neutral     17.218555\n",
       "Event Driven               8.035828\n",
       "Fixed Income Arbitrage    29.842199\n",
       "Global Macro               5.741679\n",
       "Long/Short Equity          4.523893\n",
       "Merger Arbitrage           8.738950\n",
       "Relative Value            12.121208\n",
       "Short Selling              6.117772\n",
       "Funds Of Funds             7.070153\n",
       "dtype: float64"
      ]
     },
     "execution_count": 16,
     "metadata": {},
     "output_type": "execute_result"
    }
   ],
   "source": [
    "erk.kurtosis(hfi)"
   ]
  },
  {
   "cell_type": "code",
   "execution_count": 19,
   "metadata": {},
   "outputs": [
    {
     "data": {
      "text/plain": [
       "SignificanceResult(statistic=25656.585999171337, pvalue=0.0)"
      ]
     },
     "execution_count": 19,
     "metadata": {},
     "output_type": "execute_result"
    }
   ],
   "source": [
    "scipy.stats.jarque_bera(hfi)"
   ]
  },
  {
   "cell_type": "code",
   "execution_count": 20,
   "metadata": {},
   "outputs": [
    {
     "data": {
      "text/plain": [
       "True"
      ]
     },
     "execution_count": 20,
     "metadata": {},
     "output_type": "execute_result"
    }
   ],
   "source": [
    "erk.is_normal(normal_returns)"
   ]
  },
  {
   "cell_type": "code",
   "execution_count": 21,
   "metadata": {},
   "outputs": [
    {
     "data": {
      "text/plain": [
       "False"
      ]
     },
     "execution_count": 21,
     "metadata": {},
     "output_type": "execute_result"
    }
   ],
   "source": [
    "erk.is_normal(hfi)"
   ]
  },
  {
   "cell_type": "code",
   "execution_count": 22,
   "metadata": {},
   "outputs": [
    {
     "data": {
      "text/plain": [
       "Convertible Arbitrage     False\n",
       "CTA Global                 True\n",
       "Distressed Securities     False\n",
       "Emerging Markets          False\n",
       "Equity Market Neutral     False\n",
       "Event Driven              False\n",
       "Fixed Income Arbitrage    False\n",
       "Global Macro              False\n",
       "Long/Short Equity         False\n",
       "Merger Arbitrage          False\n",
       "Relative Value            False\n",
       "Short Selling             False\n",
       "Funds Of Funds            False\n",
       "dtype: bool"
      ]
     },
     "execution_count": 22,
     "metadata": {},
     "output_type": "execute_result"
    }
   ],
   "source": [
    "hfi.aggregate(erk.is_normal)"
   ]
  },
  {
   "cell_type": "code",
   "execution_count": 24,
   "metadata": {},
   "outputs": [
    {
     "data": {
      "text/plain": [
       "SmallCap    4.410739\n",
       "LargeCap    0.233445\n",
       "dtype: float64"
      ]
     },
     "execution_count": 24,
     "metadata": {},
     "output_type": "execute_result"
    }
   ],
   "source": [
    "ffme = erk.get_ffme_returns()\n",
    "\n",
    "erk.skewness(ffme)"
   ]
  },
  {
   "cell_type": "code",
   "execution_count": 25,
   "metadata": {},
   "outputs": [
    {
     "data": {
      "text/plain": [
       "SmallCap    46.845008\n",
       "LargeCap    10.694654\n",
       "dtype: float64"
      ]
     },
     "execution_count": 25,
     "metadata": {},
     "output_type": "execute_result"
    }
   ],
   "source": [
    "erk.kurtosis(ffme)"
   ]
  },
  {
   "cell_type": "code",
   "execution_count": 26,
   "metadata": {},
   "outputs": [
    {
     "data": {
      "text/plain": [
       "SmallCap    False\n",
       "LargeCap    False\n",
       "dtype: bool"
      ]
     },
     "execution_count": 26,
     "metadata": {},
     "output_type": "execute_result"
    }
   ],
   "source": [
    "ffme.aggregate(erk.is_normal)"
   ]
  },
  {
   "cell_type": "code",
   "execution_count": null,
   "metadata": {},
   "outputs": [],
   "source": []
  }
 ],
 "metadata": {
  "kernelspec": {
   "display_name": "venv",
   "language": "python",
   "name": "python3"
  },
  "language_info": {
   "codemirror_mode": {
    "name": "ipython",
    "version": 3
   },
   "file_extension": ".py",
   "mimetype": "text/x-python",
   "name": "python",
   "nbconvert_exporter": "python",
   "pygments_lexer": "ipython3",
   "version": "3.12.6"
  }
 },
 "nbformat": 4,
 "nbformat_minor": 2
}
