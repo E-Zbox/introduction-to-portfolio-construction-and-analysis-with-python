{
 "cells": [
  {
   "cell_type": "markdown",
   "metadata": {},
   "source": [
    "# Optimization in Python\n",
    "\n",
    "[Source](https://www.youtube.com/watch?v=cXHvC_FGx24)\n",
    "\n",
    "#### Objective\n",
    "\n",
    "**Minimize**\n",
    "\n",
    "$x_1.x_4.(x_1 + x_2 + x_3) + x_3$\n",
    "\n",
    "**Such that**\n",
    "\n",
    "Constraints:\n",
    "\n",
    "* #1:\n",
    "    * $x_1.x_2.x_3.x_4 ≥ 25$\n",
    "\n",
    "* #2:\n",
    "    * $x_1^2 + x_2^2 + x_3^2 + x_4^2 = 40$\n",
    "\n",
    "* #3:\n",
    "    * $1 ≤ x_1,x_2,x_3,x_4 ≤ 5$\n",
    "\n",
    "Example\n",
    "\n",
    "$x_0 = (1, 5, 5, 1)$\n",
    "\n"
   ]
  },
  {
   "cell_type": "code",
   "execution_count": 2,
   "metadata": {},
   "outputs": [],
   "source": [
    "import numpy as np\n",
    "from scipy.optimize import minimize"
   ]
  },
  {
   "cell_type": "code",
   "execution_count": 3,
   "metadata": {},
   "outputs": [],
   "source": [
    "def objective(x):\n",
    "    [x1, x2, x3, x4] = x\n",
    "    return x1 * x4 * (x1 + x2 + x3) + x3\n",
    "\n",
    "def constraint1(x):\n",
    "    [x1, x2, x3, x4] = x\n",
    "    return x1 * x2 * x3 * x4 - 25.0\n",
    "\n",
    "def constraint2(x):\n",
    "    sum_sq = 40\n",
    "    for i in range(4):\n",
    "        sum_sq = sum_sq - x[i] ** 2\n",
    "\n",
    "    return sum_sq"
   ]
  },
  {
   "cell_type": "code",
   "execution_count": 4,
   "metadata": {},
   "outputs": [
    {
     "data": {
      "text/plain": [
       "16"
      ]
     },
     "execution_count": 4,
     "metadata": {},
     "output_type": "execute_result"
    }
   ],
   "source": [
    "# initial guess\n",
    "x0 = [1, 5, 5, 1]\n",
    "\n",
    "objective(x0)"
   ]
  },
  {
   "cell_type": "code",
   "execution_count": 5,
   "metadata": {},
   "outputs": [
    {
     "data": {
      "text/plain": [
       "((1.0, 5.0), (1.0, 5.0), (1.0, 5.0), (1.0, 5.0))"
      ]
     },
     "execution_count": 5,
     "metadata": {},
     "output_type": "execute_result"
    }
   ],
   "source": [
    "bounds = ((1.0, 5.0),) * len(x0)\n",
    "\n",
    "bounds"
   ]
  },
  {
   "cell_type": "code",
   "execution_count": 6,
   "metadata": {},
   "outputs": [],
   "source": [
    "constraints = [{\n",
    "    'type': 'ineq',\n",
    "    'fun': constraint1\n",
    "},{\n",
    "    'type': 'eq',\n",
    "    'fun': constraint2\n",
    "}]"
   ]
  },
  {
   "cell_type": "code",
   "execution_count": 7,
   "metadata": {},
   "outputs": [
    {
     "data": {
      "text/plain": [
       " message: Optimization terminated successfully\n",
       " success: True\n",
       "  status: 0\n",
       "     fun: 17.01401724563517\n",
       "       x: [ 1.000e+00  4.743e+00  3.821e+00  1.379e+00]\n",
       "     nit: 5\n",
       "     jac: [ 1.457e+01  1.379e+00  2.379e+00  9.564e+00]\n",
       "    nfev: 25\n",
       "    njev: 5"
      ]
     },
     "execution_count": 7,
     "metadata": {},
     "output_type": "execute_result"
    }
   ],
   "source": [
    "solution = minimize(objective, x0, method='SLSQP',bounds=bounds, constraints=constraints)\n",
    "\n",
    "solution"
   ]
  },
  {
   "cell_type": "code",
   "execution_count": 8,
   "metadata": {},
   "outputs": [
    {
     "name": "stdout",
     "output_type": "stream",
     "text": [
      "17.01401724563517\n"
     ]
    },
    {
     "data": {
      "text/plain": [
       "array([1.        , 4.7429961 , 3.82115462, 1.37940765])"
      ]
     },
     "execution_count": 8,
     "metadata": {},
     "output_type": "execute_result"
    }
   ],
   "source": [
    "print(solution[\"fun\"])\n",
    "\n",
    "solution[\"x\"]"
   ]
  },
  {
   "cell_type": "code",
   "execution_count": 9,
   "metadata": {},
   "outputs": [
    {
     "data": {
      "text/plain": [
       "24.99999994523914"
      ]
     },
     "execution_count": 9,
     "metadata": {},
     "output_type": "execute_result"
    }
   ],
   "source": [
    "from functools import reduce\n",
    "\n",
    "constraint1_passed = reduce(lambda x, y: x * y, solution[\"x\"])\n",
    "\n",
    "constraint1_passed\n"
   ]
  },
  {
   "cell_type": "code",
   "execution_count": 10,
   "metadata": {},
   "outputs": [
    {
     "data": {
      "text/plain": [
       "40.00000008235324"
      ]
     },
     "execution_count": 10,
     "metadata": {},
     "output_type": "execute_result"
    }
   ],
   "source": [
    "\n",
    "\n",
    "constraint2_passed = 0\n",
    "\n",
    "for x in solution[\"x\"]:\n",
    "    constraint2_passed += x ** 2\n",
    "\n",
    "constraint2_passed"
   ]
  },
  {
   "cell_type": "markdown",
   "metadata": {},
   "source": [
    "# Intro to Scipy Optimization: Minimize Method\n",
    "\n",
    "[Source](https://www.youtube.com/watch?v=G0yP_TM-oag)\n",
    "\n",
    "#### Problem 1\n",
    "\n",
    "**Objective**\n",
    "\n",
    "We want to find the lowest point on the curve:\n",
    "\n",
    "$f(x) = x^2 - 12x + 20$\n",
    "\n",
    "That would be to get the roots of $f(x)$ i.e $x$ values that return $f(x) = 0$"
   ]
  },
  {
   "cell_type": "code",
   "execution_count": 11,
   "metadata": {},
   "outputs": [],
   "source": [
    "from scipy.optimize import minimize"
   ]
  },
  {
   "cell_type": "code",
   "execution_count": 12,
   "metadata": {},
   "outputs": [
    {
     "name": "stdout",
     "output_type": "stream",
     "text": [
      "Optimization terminated successfully.\n",
      "         Current function value: -16.000000\n",
      "         Iterations: 3\n",
      "         Function evaluations: 8\n",
      "         Gradient evaluations: 4\n"
     ]
    },
    {
     "data": {
      "text/plain": [
       "  message: Optimization terminated successfully.\n",
       "  success: True\n",
       "   status: 0\n",
       "      fun: -15.999999999999936\n",
       "        x: [ 6.000e+00]\n",
       "      nit: 3\n",
       "      jac: [ 4.768e-07]\n",
       " hess_inv: [[ 5.000e-01]]\n",
       "     nfev: 8\n",
       "     njev: 4"
      ]
     },
     "execution_count": 12,
     "metadata": {},
     "output_type": "execute_result"
    }
   ],
   "source": [
    "# function to minimize\n",
    "def f(x):\n",
    "    y = x ** 2 - 12 * x + 20\n",
    "    return y\n",
    "\n",
    "# starting guess\n",
    "x_start = 2.0\n",
    "\n",
    "# optimizing to get the corresponding x value for the lowest value on the curve\n",
    "result = minimize(f, x_start, options={\"disp\": True})\n",
    "\n",
    "result"
   ]
  },
  {
   "cell_type": "code",
   "execution_count": 13,
   "metadata": {},
   "outputs": [
    {
     "data": {
      "text/plain": [
       "-15.999999999999936"
      ]
     },
     "execution_count": 13,
     "metadata": {},
     "output_type": "execute_result"
    }
   ],
   "source": [
    "# f(x) value that is the lowest on the curve is stored in \"fun\" key in the result\n",
    "result[\"fun\"]"
   ]
  },
  {
   "cell_type": "code",
   "execution_count": 14,
   "metadata": {},
   "outputs": [
    {
     "data": {
      "text/plain": [
       "array([6.00000025])"
      ]
     },
     "execution_count": 14,
     "metadata": {},
     "output_type": "execute_result"
    }
   ],
   "source": [
    "# x is the value(s) that when plugged into our objective function gives us the resulting \"fun\" i.e f(x)\n",
    "result[\"x\"]"
   ]
  },
  {
   "cell_type": "markdown",
   "metadata": {},
   "source": [
    "#### Let's try to get the roots of $f(x)$"
   ]
  },
  {
   "cell_type": "code",
   "execution_count": 15,
   "metadata": {},
   "outputs": [
    {
     "name": "stdout",
     "output_type": "stream",
     "text": [
      "Singular matrix C in LSQ subproblem    (Exit mode 6)\n",
      "            Current function value: 0.0\n",
      "            Iterations: 1\n",
      "            Function evaluations: 2\n",
      "            Gradient evaluations: 1\n"
     ]
    },
    {
     "data": {
      "text/plain": [
       " message: Singular matrix C in LSQ subproblem\n",
       " success: False\n",
       "  status: 6\n",
       "     fun: 0.0\n",
       "       x: [ 2.000e+00]\n",
       "     nit: 1\n",
       "     jac: [-8.000e+00]\n",
       "    nfev: 2\n",
       "    njev: 1"
      ]
     },
     "execution_count": 15,
     "metadata": {},
     "output_type": "execute_result"
    }
   ],
   "source": [
    "bounds = ((0, 0),)\n",
    "\n",
    "minimize(f, x_start, method=\"SLSQP\", constraints=[\n",
    "    {\n",
    "        \"type\":\"eq\",\n",
    "        'fun': lambda x: 0\n",
    "    }\n",
    "], options={\"disp\": True})"
   ]
  },
  {
   "cell_type": "markdown",
   "metadata": {},
   "source": [
    "#### Problem 2\n",
    "\n",
    "**Maximizing the Area of a Garden**\n",
    "\n",
    "*A rectangular garden is to be constructed using a rock wall as one side of the garden and wire fencing for the other three sides. Given $100ft$ of wire fencing, determine the dimensions that would create a garden of maximum area. What is the maximum area?*"
   ]
  },
  {
   "cell_type": "code",
   "execution_count": 16,
   "metadata": {},
   "outputs": [
    {
     "name": "stdout",
     "output_type": "stream",
     "text": [
      "Optimization terminated successfully    (Exit mode 0)\n",
      "            Current function value: -1250.0000000000002\n",
      "            Iterations: 4\n",
      "            Function evaluations: 12\n",
      "            Gradient evaluations: 4\n"
     ]
    },
    {
     "data": {
      "text/plain": [
       " message: Optimization terminated successfully\n",
       " success: True\n",
       "  status: 0\n",
       "     fun: -1250.0000000000002\n",
       "       x: [ 2.500e+01  5.000e+01]\n",
       "     nit: 4\n",
       "     jac: [-5.000e+01 -2.500e+01]\n",
       "    nfev: 12\n",
       "    njev: 4"
      ]
     },
     "execution_count": 16,
     "metadata": {},
     "output_type": "execute_result"
    }
   ],
   "source": [
    "# function to minimize (maximize area)\n",
    "def f(dimension):\n",
    "    [x, y] = dimension\n",
    "    area = x * y\n",
    "    return -area\n",
    "\n",
    "# starting guess\n",
    "dimension_guess = [50, 50]\n",
    "\n",
    "constraints = [\n",
    "    {\n",
    "        \"type\": \"eq\",\n",
    "        \"fun\": lambda dimension: 100 - (2 * dimension[0] + dimension[1])\n",
    "    }\n",
    "]\n",
    "\n",
    "result = minimize(f, dimension_guess, method=\"SLSQP\",bounds=((1, 100),(1, 100)), constraints=constraints, options={\"disp\":True})\n",
    "\n",
    "result"
   ]
  },
  {
   "cell_type": "code",
   "execution_count": 17,
   "metadata": {},
   "outputs": [
    {
     "data": {
      "text/plain": [
       "array([25., 50.])"
      ]
     },
     "execution_count": 17,
     "metadata": {},
     "output_type": "execute_result"
    }
   ],
   "source": [
    "result[\"x\"]"
   ]
  },
  {
   "cell_type": "code",
   "execution_count": 18,
   "metadata": {},
   "outputs": [
    {
     "data": {
      "text/plain": [
       "1250.0000000000002"
      ]
     },
     "execution_count": 18,
     "metadata": {},
     "output_type": "execute_result"
    }
   ],
   "source": [
    "-result[\"fun\"]"
   ]
  },
  {
   "cell_type": "markdown",
   "metadata": {},
   "source": [
    "#### adding another constraint\n",
    "\n",
    "If we add another constraint i.e *the side (y) adjacent to the rock wall is limited to 30, what would be the maximum area*"
   ]
  },
  {
   "cell_type": "code",
   "execution_count": 19,
   "metadata": {},
   "outputs": [
    {
     "name": "stdout",
     "output_type": "stream",
     "text": [
      "Optimization terminated successfully    (Exit mode 0)\n",
      "            Current function value: -1050.0\n",
      "            Iterations: 2\n",
      "            Function evaluations: 6\n",
      "            Gradient evaluations: 2\n"
     ]
    },
    {
     "data": {
      "text/plain": [
       " message: Optimization terminated successfully\n",
       " success: True\n",
       "  status: 0\n",
       "     fun: -1050.0\n",
       "       x: [ 3.500e+01  3.000e+01]\n",
       "     nit: 2\n",
       "     jac: [-3.000e+01 -3.500e+01]\n",
       "    nfev: 6\n",
       "    njev: 2"
      ]
     },
     "execution_count": 19,
     "metadata": {},
     "output_type": "execute_result"
    }
   ],
   "source": [
    "constraints = [\n",
    "    {\n",
    "        \"type\": \"eq\",\n",
    "        \"fun\": lambda dimension: 100 - (2 * dimension[0] + dimension[1])\n",
    "    },\n",
    "    {\n",
    "        \"type\": \"eq\",\n",
    "        \"fun\": lambda dimension: 30 - dimension[1]\n",
    "    }\n",
    "]\n",
    "\n",
    "result = minimize(f, dimension_guess, method=\"SLSQP\", bounds=(\n",
    "    (1, 100), (1, 100)), constraints=constraints, options={\"disp\": True})\n",
    "\n",
    "result"
   ]
  },
  {
   "cell_type": "code",
   "execution_count": 20,
   "metadata": {},
   "outputs": [
    {
     "data": {
      "text/plain": [
       "array([35., 30.])"
      ]
     },
     "execution_count": 20,
     "metadata": {},
     "output_type": "execute_result"
    }
   ],
   "source": [
    "result.x"
   ]
  },
  {
   "cell_type": "code",
   "execution_count": 21,
   "metadata": {},
   "outputs": [
    {
     "data": {
      "text/plain": [
       "-1050.0"
      ]
     },
     "execution_count": 21,
     "metadata": {},
     "output_type": "execute_result"
    }
   ],
   "source": [
    "result.fun"
   ]
  },
  {
   "cell_type": "markdown",
   "metadata": {},
   "source": [
    "### Problem 3\n",
    "\n",
    "$$f(x) = x^4 - 8x^2 + 5$$\n",
    "\n",
    "**Objective**\n",
    "\n",
    "Find the minima and maxima\n",
    "\n",
    "**Boundaries**\n",
    "\n",
    "* $x = [-1, 3]$\n",
    "\n",
    "Let's refer to some rules for differentiation\n",
    "\n",
    "$f^{'}(x) = 0$ at a turning point\n",
    "\n",
    "**Constraints**\n",
    "\n",
    "* $f^{'}(x) = 0$"
   ]
  },
  {
   "cell_type": "markdown",
   "metadata": {},
   "source": [
    "#### Minima"
   ]
  },
  {
   "cell_type": "code",
   "execution_count": 22,
   "metadata": {},
   "outputs": [
    {
     "name": "stdout",
     "output_type": "stream",
     "text": [
      "Optimization terminated successfully    (Exit mode 0)\n",
      "            Current function value: -11.0\n",
      "            Iterations: 5\n",
      "            Function evaluations: 11\n",
      "            Gradient evaluations: 5\n"
     ]
    },
    {
     "data": {
      "text/plain": [
       " message: Optimization terminated successfully\n",
       " success: True\n",
       "  status: 0\n",
       "     fun: -11.0\n",
       "       x: [ 2.000e+00]\n",
       "     nit: 5\n",
       "     jac: [ 2.031e-04]\n",
       "    nfev: 11\n",
       "    njev: 5"
      ]
     },
     "execution_count": 22,
     "metadata": {},
     "output_type": "execute_result"
    }
   ],
   "source": [
    "def f(x):\n",
    "    return x ** 4 - (8 * x ** 2) + 5\n",
    "\n",
    "init_guess = 20\n",
    "\n",
    "bounds = ((-1, 3),)\n",
    "\n",
    "constraints = [\n",
    "    {\n",
    "        'type': 'eq',\n",
    "        'fun': lambda x: 4 * x**3 - 16 * x\n",
    "    }\n",
    "]\n",
    "\n",
    "result = minimize(f, init_guess, bounds=bounds, constraints=constraints, options={\"disp\": True})\n",
    "\n",
    "result"
   ]
  },
  {
   "cell_type": "markdown",
   "metadata": {},
   "source": [
    "#### Maxima"
   ]
  },
  {
   "cell_type": "code",
   "execution_count": 23,
   "metadata": {},
   "outputs": [
    {
     "name": "stdout",
     "output_type": "stream",
     "text": [
      "Optimization terminated successfully    (Exit mode 0)\n",
      "            Current function value: 5.0\n",
      "            Iterations: 2\n",
      "            Function evaluations: 5\n",
      "            Gradient evaluations: 2\n"
     ]
    },
    {
     "data": {
      "text/plain": [
       " message: Optimization terminated successfully\n",
       " success: True\n",
       "  status: 0\n",
       "     fun: 5.0\n",
       "       x: [ 0.000e+00]\n",
       "     nit: 2\n",
       "     jac: [-1.192e-07]\n",
       "    nfev: 5\n",
       "    njev: 2"
      ]
     },
     "execution_count": 23,
     "metadata": {},
     "output_type": "execute_result"
    }
   ],
   "source": [
    "def f(x):\n",
    "    return x ** 4 - (8 * x ** 2) + 5\n",
    "\n",
    "\n",
    "init_guess = 20\n",
    "\n",
    "bounds = ((-1, 1),)\n",
    "\n",
    "constraints = [\n",
    "    {\n",
    "        'type': 'eq',\n",
    "        'fun': lambda x: 4 * x**3 - 16 * x\n",
    "    }\n",
    "]\n",
    "\n",
    "result = minimize(f, init_guess, bounds=bounds,\n",
    "                  constraints=constraints, options={\"disp\": True})\n",
    "\n",
    "result"
   ]
  },
  {
   "cell_type": "markdown",
   "metadata": {},
   "source": [
    "#### Problem 4\n",
    "\n",
    "$$f(x) = 2x^4 - 3x^3 + 5x^2 - 2x + 1$$\n",
    "\n",
    "**Objective**\n",
    "\n",
    "Find the minima and maxima of the above function\n",
    "\n",
    "**Constraints**\n",
    "\n",
    "* x-values when plugged into $f^{'}(x) = 0$\n",
    "    * $f^{'}(x) = 8x^3 - 9x^2 + 10x - 2$"
   ]
  },
  {
   "cell_type": "code",
   "execution_count": 25,
   "metadata": {},
   "outputs": [
    {
     "data": {
      "text/plain": [
       " message: Optimization terminated successfully\n",
       " success: True\n",
       "  status: 0\n",
       "     fun: 0.7731592023847624\n",
       "       x: [ 2.411e-01]\n",
       "     nit: 4\n",
       "     jac: [-2.488e-06]\n",
       "    nfev: 9\n",
       "    njev: 4"
      ]
     },
     "execution_count": 25,
     "metadata": {},
     "output_type": "execute_result"
    }
   ],
   "source": [
    "def f(x):\n",
    "    return 2 * (x ** 4) - 3 * (x ** 3) + 5 * (x ** 2) - 2*x + 1\n",
    "\n",
    "constraints = [\n",
    "    {\n",
    "        'type': 'eq',\n",
    "        'fun': lambda x: 8 * (x ** 3) - 9 * (x ** 2) + 10 * x - 2\n",
    "    }\n",
    "]\n",
    "\n",
    "init_guess = 0\n",
    "\n",
    "result = minimize(f, init_guess, constraints=constraints)\n",
    "\n",
    "result"
   ]
  },
  {
   "cell_type": "code",
   "execution_count": 28,
   "metadata": {},
   "outputs": [
    {
     "name": "stdout",
     "output_type": "stream",
     "text": [
      "x = [0.24110613]\n",
      "\n",
      "f(x)=0.7731592023847624\n"
     ]
    }
   ],
   "source": [
    "print(f\"x = {result.x}\\n\\nf(x)={result.fun}\")"
   ]
  },
  {
   "cell_type": "code",
   "execution_count": 29,
   "metadata": {},
   "outputs": [
    {
     "data": {
      "text/plain": [
       " message: Optimization terminated successfully\n",
       " success: True\n",
       "  status: 0\n",
       "     fun: -0.7731592023847624\n",
       "       x: [ 2.411e-01]\n",
       "     nit: 4\n",
       "     jac: [ 2.488e-06]\n",
       "    nfev: 9\n",
       "    njev: 4"
      ]
     },
     "execution_count": 29,
     "metadata": {},
     "output_type": "execute_result"
    }
   ],
   "source": [
    "def f(x):\n",
    "    return -(2 * (x ** 4) - 3 * (x ** 3) + 5 * (x ** 2) - 2*x + 1)\n",
    "\n",
    "\n",
    "constraints = [\n",
    "    {\n",
    "        'type': 'eq',\n",
    "        'fun': lambda x: 8 * (x ** 3) - 9 * (x ** 2) + 10 * x - 2\n",
    "    }\n",
    "]\n",
    "\n",
    "init_guess = 0\n",
    "\n",
    "result = minimize(f, init_guess, constraints=constraints)\n",
    "\n",
    "result"
   ]
  },
  {
   "cell_type": "code",
   "execution_count": null,
   "metadata": {},
   "outputs": [],
   "source": []
  }
 ],
 "metadata": {
  "kernelspec": {
   "display_name": "venv",
   "language": "python",
   "name": "python3"
  },
  "language_info": {
   "codemirror_mode": {
    "name": "ipython",
    "version": 3
   },
   "file_extension": ".py",
   "mimetype": "text/x-python",
   "name": "python",
   "nbconvert_exporter": "python",
   "pygments_lexer": "ipython3",
   "version": "3.12.6"
  }
 },
 "nbformat": 4,
 "nbformat_minor": 2
}
